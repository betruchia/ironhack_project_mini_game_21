{
 "cells": [
  {
   "cell_type": "code",
   "execution_count": 87,
   "id": "5dc9b359",
   "metadata": {},
   "outputs": [],
   "source": [
    "import random        \n",
    "print(\"bem-vinde ao jogo 21!!!\")\n",
    "cartas = [] # aqui crio a lista vazia pra depois somar os valores das cartas viradas\n",
    "\n",
    "def vinte1 ():\n",
    "    \n",
    "    \"\"\"jogo de cartas em que o jogador aposta com a mesa, visando atingir a soma 21 com os valores das cartas que virar\"\"\"\n",
    "    \n",
    "    nova_carta = random.sample([\"A\",2,3,4,5,6,7,8,9,10,\"J\",\"Q\",\"K\"], counts = [4,4,4,4,4,4,4,4,4,4,4,4,4], k=1)[0] # aqui sorteio as cartas da jogadora - como o resultado é dado em lista, uso o índice pra retirar o elemento\n",
    "    \n",
    "    if nova_carta == \"J\" or nova_carta == \"Q\" or nova_carta == \"K\": # as figuras valem 10\n",
    "        print(f\"a carta virada foi {nova_carta}\")\n",
    "        cartas.append(10) # adiciono o valor da carta à lista\n",
    "    elif nova_carta != \"A\":\n",
    "        print(f\"a carta virada foi {nova_carta}\")\n",
    "        cartas.append(nova_carta) # adiciono o valor da carta à lista\n",
    "    else: # \"A\" pode valer 1 ou 11, dependendo da escolha da jogadora\n",
    "        a = input(f\"a carta virada foi {nova_carta} - deseja que ela valha 1 ou 11? \")\n",
    "        while a != \"1\" and a != \"11\": # aqui garanto que a jogadora vai entrar valores aceitáveis\n",
    "            a = input(f\"a carta virada foi {nova_carta} - deseja que ela valha 1 ou 11? \")\n",
    "        cartas.append(int(a)) # adiciono o valor da carta à lista\n",
    "    \n",
    "    soma = sum(cartas) # somo os valores da lista\n",
    "    print(f\"o total está {soma}\")\n",
    "    \n",
    "    if soma < 21: # enquanto a soma for inferior a 21, a jogadora decide se quer uma nova carta ou não\n",
    "        seguir = input(\"digite 's' para receber uma nova carta ou 'n' para parar por aqui: \")\n",
    "        while seguir != 's' and seguir != 'n': # aqui garanto que a jogadora vai entrar valores aceitáveis\n",
    "            seguir = input(\"digite 's' para receber uma nova carta ou 'n' para parar por aqui: \")\n",
    "        if seguir == 's':\n",
    "            return vinte1() # chama o jogo novamente pra sortear uma nova carta pra jogadora\n",
    "        else:\n",
    "            nova_carta = random.sample([\"A\",2,3,4,5,6,7,8,9,10,\"J\",\"Q\",\"K\"], counts = [4,4,4,4,4,4,4,4,4,4,4,4,4], k=1)[0] # aqui sorteio uma nova carta, pra definir se a jogadora fez bem em parar ou se perdeu, pois a nova carta permitiria a sequência do jogo ou mesmo sua vitória - de novo, preciso usar o índice pra tirar o elemento da lista\n",
    "            if nova_carta == \"J\" or nova_carta == \"Q\" or nova_carta == \"K\":\n",
    "                print(f\"a carta virada foi {nova_carta}\")\n",
    "                cartas.append(10) # adiciono o valor da carta à lista\n",
    "                soma = sum(cartas) # confiro a nova soma\n",
    "                if soma <= 21:\n",
    "                    print(\"você perdeu :(((\")\n",
    "                elif soma > 21:\n",
    "                    print(\"ufa! saiu na hora certa!\")\n",
    "            elif nova_carta != \"A\":\n",
    "                print(f\"a carta virada foi {nova_carta}\")\n",
    "                cartas.append(nova_carta) # adiciono o valor da carta à lista\n",
    "                soma = sum(cartas) # confiro a nova soma\n",
    "                if soma <= 21:\n",
    "                    print(\"você perdeu :(((\")\n",
    "                elif soma > 21:\n",
    "                    print(\"ufa! saiu na hora certa!\")\n",
    "            else: # aqui considero \"A\" como valendo 1, pois, sendo uma das possibilidades, com certeza permitiria sequência do jogo ou mesmo sua vitória\n",
    "                print(f\"a carta virada foi {nova_carta}\")\n",
    "                print(\"você perdeu :(((\")\n",
    "                \n",
    "    elif soma > 21: # ultrapassando a soma 21, a jogadora perde\n",
    "        print(\"você perdeu :(((\")\n",
    "        \n",
    "    else: # atingindo exatamente a soma 21, a jogadora vence o jogo\n",
    "        print(\"UHUUULLL!!! Você ganhou!!!!!!!!!\")\n",
    "    \n",
    "    cartas.clear() # como essa rodada acabou, preciso limpar a lista pra permitir novas rodadas\n",
    "    novo_jogo = input(\"digite 's' para jogar novamente ou 'n' para parar por aqui: \")\n",
    "    while novo_jogo != 's' and novo_jogo != 'n': # aqui garanto que a jogadora vai entrar valores aceitáveis\n",
    "        novo_jogo = input(\"digite 's' para jogar novamente ou 'n' para parar por aqui: \")\n",
    "    if novo_jogo == \"s\":\n",
    "        return vinte1() # chama o jogo novamente\n",
    "    else:\n",
    "        print(\"até a próxima!!!\") # encerra o jogo\n",
    "        \n",
    "vinte1()"
   ]
  }
 ],
 "metadata": {
  "kernelspec": {
   "display_name": "Python 3 (ipykernel)",
   "language": "python",
   "name": "python3"
  },
  "language_info": {
   "codemirror_mode": {
    "name": "ipython",
    "version": 3
   },
   "file_extension": ".py",
   "mimetype": "text/x-python",
   "name": "python",
   "nbconvert_exporter": "python",
   "pygments_lexer": "ipython3",
   "version": "3.9.7"
  },
  "toc": {
   "base_numbering": 1,
   "nav_menu": {},
   "number_sections": true,
   "sideBar": true,
   "skip_h1_title": false,
   "title_cell": "Table of Contents",
   "title_sidebar": "Contents",
   "toc_cell": false,
   "toc_position": {},
   "toc_section_display": true,
   "toc_window_display": false
  },
  "varInspector": {
   "cols": {
    "lenName": 16,
    "lenType": 16,
    "lenVar": 40
   },
   "kernels_config": {
    "python": {
     "delete_cmd_postfix": "",
     "delete_cmd_prefix": "del ",
     "library": "var_list.py",
     "varRefreshCmd": "print(var_dic_list())"
    },
    "r": {
     "delete_cmd_postfix": ") ",
     "delete_cmd_prefix": "rm(",
     "library": "var_list.r",
     "varRefreshCmd": "cat(var_dic_list()) "
    }
   },
   "types_to_exclude": [
    "module",
    "function",
    "builtin_function_or_method",
    "instance",
    "_Feature"
   ],
   "window_display": false
  }
 },
 "nbformat": 4,
 "nbformat_minor": 5
}
